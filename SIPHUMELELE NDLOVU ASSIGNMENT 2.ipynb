{
 "cells": [
  {
   "cell_type": "code",
   "execution_count": null,
   "id": "7c6df30b",
   "metadata": {},
   "outputs": [],
   "source": [
    "### NDLOVU SIPHUMELELE ASSIGNMENT 2\n",
    "### 217047276\n",
    "\n",
    "\n",
    "# QUESTION 1\n",
    "#a)\n",
    "import numpy as np\n",
    "import matplotlib.pyplot as plt\n",
    "\n",
    "def f(x):\n",
    "    return (1/4)*x**4 - x**2 - x\n",
    "\n",
    "def f_prime(x):\n",
    "    return x**3 - 2*x - 1\n",
    "\n",
    "def forward_difference(f, x, h=0.01):\n",
    "    return (f(x+h) - f(x))/h\n",
    "\n",
    "def backward_difference(f, x, h=0.01):\n",
    "    return (f(x) - f(x-h))/h\n",
    "\n",
    "def centred_difference(f, x, h=0.01):\n",
    "    return (f(x+h) - f(x-h))/(2*h)\n",
    "\n",
    "x = np.linspace(-2, 3, 100)\n",
    "\n",
    "plt.plot(x,f(x), color='purple',label='f')\n",
    "plt.plot(x,f_prime(x), color='green',label='f prime')\n",
    "plt.plot(x, forward_difference(f, x), color='red',label='Forward Difference')\n",
    "plt.plot(x, backward_difference(f, x), label='Backward Difference')\n",
    "plt.plot(x, centred_difference(f,x),label='Centered Difference')\n",
    "\n",
    "plt.legend(loc='upper left')\n",
    "\n",
    "plt.show()"
   ]
  },
  {
   "cell_type": "code",
   "execution_count": null,
   "id": "1d533ad3",
   "metadata": {},
   "outputs": [],
   "source": [
    "# error\n",
    "#Therotical=f(x)\n",
    "#Numerical= f_prime(x)\n",
    "plt.plot(x,(1/4*x**4 - x**2 - x)-f_prime(x),'*')"
   ]
  },
  {
   "cell_type": "code",
   "execution_count": 69,
   "id": "e8158ace",
   "metadata": {
    "scrolled": false
   },
   "outputs": [
    {
     "data": {
      "image/png": "[encoded data removed]",
      "text/plain": [
       "<Figure size 432x288 with 1 Axes>"
      ]
     },
     "metadata": {
      "needs_background": "light"
     },
     "output_type": "display_data"
    }
   ],
   "source": [
    "#b)\n",
    "import numpy as np\n",
    "import matplotlib.pyplot as plt\n",
    "\n",
    "def g(x):\n",
    "    return np.tanh(x)\n",
    "def g_derivative(x):\n",
    "    return (1-np.tanh(x)**2)\n",
    "\n",
    "def fw_difference(x,h):\n",
    "    return (g(x+h)-g(x))/h\n",
    "\n",
    "def bw_difference(x0,h):\n",
    "    return (g(x)-g(x-h))/h\n",
    "\n",
    "def centered_difference(x0,h):\n",
    "    return (g(x+h)-g(x-h))/(2*h)\n",
    "\n",
    "h=0.01\n",
    "x=np.linspace(-5,5,1000)\n",
    "\n",
    "plt.plot(x,g(x), color='black',label='g')\n",
    "plt.plot(x,g_derivative(x),color='purple',label=\"analytic\")\n",
    "plt.plot(x,fw_difference(x,h),label=\"forward\")\n",
    "plt.plot(x,bw_difference(x,h),label=\"backward\")\n",
    "plt.plot(x,centered_difference(x,h),label=\"centered\")\n",
    "\n",
    "plt.legend(loc='upper left')\n",
    "\n",
    "plt.show()\n"
   ]
  },
  {
   "cell_type": "code",
   "execution_count": 70,
   "id": "f700ba30",
   "metadata": {},
   "outputs": [
    {
     "data": {
      "text/plain": [
       "[<matplotlib.lines.Line2D at 0x19baeb23910>]"
      ]
     },
     "execution_count": 70,
     "metadata": {},
     "output_type": "execute_result"
    },
    {
     "data": {
      "image/png": "[encoded data removed]",
      "text/plain": [
       "<Figure size 432x288 with 1 Axes>"
      ]
     },
     "metadata": {
      "needs_background": "light"
     },
     "output_type": "display_data"
    }
   ],
   "source": [
    "#error\n",
    "#Therotical=g(x)\n",
    "#Numerical= g_derivative(x)\n",
    "plt.plot(x,(np.tanh(x))-g_derivative(x),'-')\n",
    "plt.plot(x,(np.tanh(x))-fw_difference(x,h),'*')"
   ]
  },
  {
   "cell_type": "code",
   "execution_count": 45,
   "id": "1c9afd22",
   "metadata": {},
   "outputs": [
    {
     "name": "stdout",
     "output_type": "stream",
     "text": [
      "Integral by Trapezoidal Rule:  8.14585285152158\n",
      "Integral by Simpson's Rule:  7.900715177387954\n"
     ]
    }
   ],
   "source": [
    "#question 2\n",
    "a)\n",
    "\n",
    "import numpy as np\n",
    "\n",
    "a = 1\n",
    "b = 4\n",
    "f = lambda x: (1 + x**2)**0.5\n",
    "\n",
    "n = 50\n",
    "h = (b-a)/n\n",
    "\n",
    "I = 0.5*(f(a)+f(b)) + np.sum([f(a+i*h) for i in range(1,n)])\n",
    "I = h*I\n",
    "\n",
    "print(\"Integral by Trapezoidal Rule: \",format(I))\n",
    "\n",
    "# b)\n",
    "\n",
    "n = 2*n\n",
    "h = (b-a)/n\n",
    "\n",
    "I = np.sum([f(a+i*h) for i in range(1,n-1,2)])\n",
    "I = (4*I + 2*np.sum([f(a+i*h) for i in range(2,n-2,2)]))\n",
    "I = (h/3)*(I + f(a) + f(b))\n",
    "\n",
    "print(\"Integral by Simpson's Rule: \",format(I))\n"
   ]
  },
  {
   "cell_type": "code",
   "execution_count": 25,
   "id": "d8e5bc74",
   "metadata": {},
   "outputs": [],
   "source": [
    "# Question 3\n",
    "\n",
    "'''secant'''\n",
    "\n",
    "import numpy as np\n",
    "import matplotlib.pyplot as plt\n",
    "\n",
    "def secant(f,x0,x1,tol,N):\n",
    "    x=np.zeros(N)\n",
    "    x[0]=x0\n",
    "    \n",
    "    \n",
    "    \n",
    "'''bisection'''\n",
    "import numpy as np\n",
    "import math\n",
    "import matplotlib.pyplot as plt\n",
    "import mpl_toolkits.mplot3d.axes3d as p3\n",
    "import matplotlib.animation as animation\n",
    "\n",
    "def f(x,a):\n",
    "    return np.linalg.det(a-np.identity(len(a))*x)\n",
    "\n",
    "def bisection(xl,xu,e,a):\n",
    "    test = f(xl,a)*f(xu,a)\n",
    "    xr=xl\n",
    "    iterate=0\n",
    "    if test<0:\n",
    "        while abs(f(xr,a))>e and iterate<=100:\n",
    "            xr=xl+(xu-xl)/2\n",
    "            test=f(xl,a)*f(xr,a)\n",
    "            if test>0:\n",
    "                xl=xr\n",
    "            else:\n",
    "                xu=xr\n",
    "            iterate+=1\n",
    "            if test==0:\n",
    "                break\n",
    "    return(xr)\n",
    "\n",
    "A1=np.array\n"
   ]
  },
  {
   "cell_type": "code",
   "execution_count": 78,
   "id": "89627e14",
   "metadata": {},
   "outputs": [
    {
     "name": "stdout",
     "output_type": "stream",
     "text": [
      "The value of u at t is: -0.9999999999999997\n"
     ]
    }
   ],
   "source": [
    "# question 4\n",
    "k=1\n",
    "x=1\n",
    "# A sample differential equation \"dy**2 / dt**2 = -kx\"\n",
    "def dudt(t, u):\n",
    "    return -k*x\n",
    "   \n",
    "# Finds value of u for a given t using step size h\n",
    "# and initial value u0 at t0.\n",
    "def rungeKutta(t0, u0, v, h):\n",
    "    u = u0\n",
    "    # Count number of iterations using step size or\n",
    "    # step height h\n",
    "  \n",
    "    # Iterate for number of iterations\n",
    "  \n",
    "    for i in range(1, n + 1):\n",
    "        t = 0\n",
    "        \"Apply Runge Kutta Formulas to find next value of u\"\n",
    "        k1 = h * dudt(t, u)\n",
    "        k2 = h * dudt(t + 0.5 * h, u + 0.5 * k1)\n",
    "        k3 = h * dudt(t + 0.5 * h, u + 0.5 * k2)\n",
    "        k4 = h * dudt(t + h, u + k3)\n",
    " \n",
    "        # Update next value of u\n",
    "        u = u + (1.0 / 6.0)*(k1 + 2 * k2 + 2 * k3 + k4)\n",
    " \n",
    "        # Update next value of t\n",
    "        t = t+ h\n",
    "    return u\n",
    " \n",
    "\n",
    "t = 0\n",
    "u = 1\n",
    "v = 2\n",
    "h = 0.2\n",
    "n = int((v - t)/h)\n",
    "print ('The value of u at t is:', rungeKutta(t, u, v, h))\n",
    " \n"
   ]
  },
  {
   "cell_type": "code",
   "execution_count": null,
   "id": "3ec0248b",
   "metadata": {},
   "outputs": [],
   "source": []
  },
  {
   "cell_type": "code",
   "execution_count": null,
   "id": "856dd780",
   "metadata": {},
   "outputs": [],
   "source": []
  }
 ],
 "metadata": {
  "kernelspec": {
   "display_name": "Python 3 (ipykernel)",
   "language": "python",
   "name": "python3"
  },
  "language_info": {
   "codemirror_mode": {
    "name": "ipython",
    "version": 3
   },
   "file_extension": ".py",
   "mimetype": "text/x-python",
   "name": "python",
   "nbconvert_exporter": "python",
   "pygments_lexer": "ipython3",
   "version": "3.9.7"
  }
 },
 "nbformat": 4,
 "nbformat_minor": 5
}
